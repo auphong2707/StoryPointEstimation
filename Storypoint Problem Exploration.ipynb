{
 "cells": [
  {
   "cell_type": "markdown",
   "metadata": {},
   "source": [
    "# Storypoint Prediction: Problem Exploration"
   ]
  },
  {
   "cell_type": "markdown",
   "metadata": {},
   "source": [
    "## Problem Statement"
   ]
  },
  {
   "cell_type": "markdown",
   "metadata": {},
   "source": [
    "In modern agile development settings, software is developed through repeated cycles (iterative) and in smaller parts at a time (incremental), allowing for adaptation to changing requirements at any point during a project’s life. A project has a number of iterations (e.g. sprints in Scrum). Each iteration requires the completion of a number of user stories, which are a common way for agile teams to express user requirements. \n",
    "\n",
    "There is thus a need to focus on estimating the effort of completing a single user story at a time rather than the entire project. In fact, it has now become a common practice for agile teams to go through each user story and estimate its “size”. Story points are commonly used as a unit of measure for specifying the overall size of a user story.\n"
   ]
  },
  {
   "cell_type": "markdown",
   "metadata": {},
   "source": [
    "## Problem Formulation"
   ]
  },
  {
   "cell_type": "markdown",
   "metadata": {},
   "source": [
    "**Input:** A string of length *N* that contains a story's name and description $C=\\{c_1, c_2, c_3,..., c_n\\}$. For each story, a set of text embeddings that contains features $E=\\{e_1, e_2, e_3,...,e_m\\}$ extracted from C has been provided.\n",
    "\n",
    "**Output**: A natural number P associated with the story point of that user story"
   ]
  },
  {
   "cell_type": "markdown",
   "metadata": {},
   "source": [
    "## Dataset Information"
   ]
  },
  {
   "cell_type": "markdown",
   "metadata": {},
   "source": [
    "**Text Embeddings:** Text embeddings are a way to convert words or phrases from text into a list of numbers, where each number captures a part of the text's meaning. The dataset has been preprocessed and converted into two kinds of text embeddings. You can choose to work with either of them or both:\n",
    "- Doc2Vec: Input strings are transformed into fixed-length vectors of size 128. These vectors capture the semantic meaning of words and their relationships within a document.\n",
    "- Look-upTable: Input strings are transformed into fixed-length vectors of size 2264. These vectors are obtained via transforming each word in the input strings into an identifier number, then padded to the length of the longest sample.\n"
   ]
  },
  {
   "cell_type": "markdown",
   "metadata": {},
   "source": [
    "**Dataset Structure & Format:** Storypoint Estimation Dataset is stored in 3 folders labeled *raw data*, *look-up*, and *doc2vec*. Within each folder are 3 CSV files for training, testing, validation. Each csv file has the following columns:\n",
    "-\t`issuekey` : The unique identifier for a story.\n",
    "-\t`storypoint`: The correct number of storypoint.\n",
    "-\tAn embedding column (`embedding` or  `doc2vec`) contains text embedding vectors. The raw data csv will not have this and instead contain two columns with story `name` and `description`.\n"
   ]
  },
  {
   "cell_type": "markdown",
   "metadata": {},
   "source": [
    "## Exploration"
   ]
  },
  {
   "cell_type": "markdown",
   "metadata": {},
   "source": [
    "### Raw data exploration"
   ]
  },
  {
   "cell_type": "code",
   "execution_count": 89,
   "metadata": {},
   "outputs": [],
   "source": [
    "import pandas as pd\n",
    "import numpy as np\n",
    "import matplotlib.pyplot as plt\n",
    "import seaborn as sns\n",
    "\n",
    "from sklearn.feature_extraction.text import CountVectorizer"
   ]
  },
  {
   "cell_type": "markdown",
   "metadata": {},
   "source": [
    "#### Output exploration"
   ]
  },
  {
   "cell_type": "code",
   "execution_count": 90,
   "metadata": {},
   "outputs": [
    {
     "name": "stdout",
     "output_type": "stream",
     "text": [
      "Check the shape of the dataset (1562, 4)\n"
     ]
    }
   ],
   "source": [
    "# Import raw data from the CSV file\n",
    "\n",
    "project_name = 'mesos'\n",
    "\n",
    "all_data = pd.concat([pd.read_csv('data/' + project_name + '/' + project_name + '_train.csv'), \n",
    "                      pd.read_csv('data/' + project_name + '/' + project_name + '_valid.csv'),\n",
    "                      pd.read_csv('data/' + project_name + '/' + project_name + '_test.csv')])\n",
    "\n",
    "print('Check the shape of the dataset', all_data.shape)\n"
   ]
  },
  {
   "cell_type": "code",
   "execution_count": 91,
   "metadata": {},
   "outputs": [
    {
     "data": {
      "text/html": [
       "<div>\n",
       "<style scoped>\n",
       "    .dataframe tbody tr th:only-of-type {\n",
       "        vertical-align: middle;\n",
       "    }\n",
       "\n",
       "    .dataframe tbody tr th {\n",
       "        vertical-align: top;\n",
       "    }\n",
       "\n",
       "    .dataframe thead th {\n",
       "        text-align: right;\n",
       "    }\n",
       "</style>\n",
       "<table border=\"1\" class=\"dataframe\">\n",
       "  <thead>\n",
       "    <tr style=\"text-align: right;\">\n",
       "      <th></th>\n",
       "      <th>title</th>\n",
       "      <th>description</th>\n",
       "      <th>storypoint</th>\n",
       "    </tr>\n",
       "  </thead>\n",
       "  <tbody>\n",
       "    <tr>\n",
       "      <th>0</th>\n",
       "      <td>report executor terminations framework schedulers</td>\n",
       "      <td>scheduler interface callback executorlost curr...</td>\n",
       "      <td>2</td>\n",
       "    </tr>\n",
       "    <tr>\n",
       "      <th>1</th>\n",
       "      <td>mesos slave cache executors</td>\n",
       "      <td>slave smarter handles pulling executors enviro...</td>\n",
       "      <td>5</td>\n",
       "    </tr>\n",
       "    <tr>\n",
       "      <th>2</th>\n",
       "      <td>expose taskfailed reason frameworks</td>\n",
       "      <td>message string inside taskstatus provides huma...</td>\n",
       "      <td>8</td>\n",
       "    </tr>\n",
       "    <tr>\n",
       "      <th>3</th>\n",
       "      <td>balloon framework fails run due bad flags</td>\n",
       "      <td>suspect latest flags refactor vinodsmfdbkqsr b...</td>\n",
       "      <td>1</td>\n",
       "    </tr>\n",
       "    <tr>\n",
       "      <th>4</th>\n",
       "      <td>also check git diff shortstat staged postrevie...</td>\n",
       "      <td>current check changes run postreviewspy dont c...</td>\n",
       "      <td>1</td>\n",
       "    </tr>\n",
       "  </tbody>\n",
       "</table>\n",
       "</div>"
      ],
      "text/plain": [
       "                                               title  \\\n",
       "0  report executor terminations framework schedulers   \n",
       "1                        mesos slave cache executors   \n",
       "2                expose taskfailed reason frameworks   \n",
       "3          balloon framework fails run due bad flags   \n",
       "4  also check git diff shortstat staged postrevie...   \n",
       "\n",
       "                                         description  storypoint  \n",
       "0  scheduler interface callback executorlost curr...           2  \n",
       "1  slave smarter handles pulling executors enviro...           5  \n",
       "2  message string inside taskstatus provides huma...           8  \n",
       "3  suspect latest flags refactor vinodsmfdbkqsr b...           1  \n",
       "4  current check changes run postreviewspy dont c...           1  "
      ]
     },
     "execution_count": 91,
     "metadata": {},
     "output_type": "execute_result"
    }
   ],
   "source": [
    "all_data.drop(['issuekey'], axis=1, inplace=True)\n",
    "all_data.head()"
   ]
  },
  {
   "cell_type": "markdown",
   "metadata": {},
   "source": [
    "First, let take a look at the distribution of the story point:"
   ]
  },
  {
   "cell_type": "markdown",
   "metadata": {},
   "source": [
    "Interpretation of Skewness Values:\n",
    "\n",
    "- **Skewness > 0**: Right-skewed distribution.\n",
    "- **Skewness < 0**: Left-skewed distribution.\n",
    "- **Skewness = 0**: Symmetrical distribution (like a normal distribution)."
   ]
  },
  {
   "cell_type": "markdown",
   "metadata": {},
   "source": [
    "Interpretaion of kurtosis:\n",
    "- **Leptokurtic (Kurtosis > 3)**: The distribution has heavier tails and a sharper peak than the normal distribution. Data points are more likely to produce extreme values. The distribution has a higher peak and fatter tails.\n",
    "- **Platykurtic (Kurtosis < 3)**: The distribution has lighter tails and a flatter peak than the normal distribution. Data are fewer extreme values compared to a normal distribution.\n",
    "- **Mesokurtic (Kurtosis ≈ 3)**: The distribution has a similar kurtosis to the normal distribution, indicating a moderate level of outliers."
   ]
  },
  {
   "cell_type": "code",
   "execution_count": 92,
   "metadata": {},
   "outputs": [
    {
     "name": "stdout",
     "output_type": "stream",
     "text": [
      "Skewness: 4.007223252844538\n",
      "Kurtosis: 40.68919923889905\n"
     ]
    },
    {
     "data": {
      "image/png": "[encoded data removed]",
      "text/plain": [
       "<Figure size 1200x400 with 1 Axes>"
      ]
     },
     "metadata": {},
     "output_type": "display_data"
    }
   ],
   "source": [
    "# Draw a histogram of the story points\n",
    "plt.figure(figsize=(12, 4))\n",
    "plt.xticks(np.arange(0, max(all_data['storypoint']) + 1, 5))\n",
    "sns.histplot(all_data['storypoint'], bins=100, kde=True)\n",
    "\n",
    "print('Skewness:', all_data['storypoint'].skew())\n",
    "print('Kurtosis:', all_data['storypoint'].kurt())"
   ]
  },
  {
   "cell_type": "code",
   "execution_count": 93,
   "metadata": {},
   "outputs": [
    {
     "data": {
      "text/html": [
       "<div>\n",
       "<style scoped>\n",
       "    .dataframe tbody tr th:only-of-type {\n",
       "        vertical-align: middle;\n",
       "    }\n",
       "\n",
       "    .dataframe tbody tr th {\n",
       "        vertical-align: top;\n",
       "    }\n",
       "\n",
       "    .dataframe thead th {\n",
       "        text-align: right;\n",
       "    }\n",
       "</style>\n",
       "<table border=\"1\" class=\"dataframe\">\n",
       "  <thead>\n",
       "    <tr style=\"text-align: right;\">\n",
       "      <th></th>\n",
       "      <th>Counts</th>\n",
       "      <th>Percentage (%)</th>\n",
       "    </tr>\n",
       "    <tr>\n",
       "      <th>storypoint</th>\n",
       "      <th></th>\n",
       "      <th></th>\n",
       "    </tr>\n",
       "  </thead>\n",
       "  <tbody>\n",
       "    <tr>\n",
       "      <th>3</th>\n",
       "      <td>465</td>\n",
       "      <td>29.769526</td>\n",
       "    </tr>\n",
       "    <tr>\n",
       "      <th>1</th>\n",
       "      <td>380</td>\n",
       "      <td>24.327785</td>\n",
       "    </tr>\n",
       "    <tr>\n",
       "      <th>2</th>\n",
       "      <td>361</td>\n",
       "      <td>23.111396</td>\n",
       "    </tr>\n",
       "    <tr>\n",
       "      <th>5</th>\n",
       "      <td>239</td>\n",
       "      <td>15.300896</td>\n",
       "    </tr>\n",
       "    <tr>\n",
       "      <th>8</th>\n",
       "      <td>79</td>\n",
       "      <td>5.057618</td>\n",
       "    </tr>\n",
       "    <tr>\n",
       "      <th>13</th>\n",
       "      <td>26</td>\n",
       "      <td>1.664533</td>\n",
       "    </tr>\n",
       "    <tr>\n",
       "      <th>4</th>\n",
       "      <td>9</td>\n",
       "      <td>0.576184</td>\n",
       "    </tr>\n",
       "    <tr>\n",
       "      <th>40</th>\n",
       "      <td>1</td>\n",
       "      <td>0.064020</td>\n",
       "    </tr>\n",
       "    <tr>\n",
       "      <th>6</th>\n",
       "      <td>1</td>\n",
       "      <td>0.064020</td>\n",
       "    </tr>\n",
       "    <tr>\n",
       "      <th>10</th>\n",
       "      <td>1</td>\n",
       "      <td>0.064020</td>\n",
       "    </tr>\n",
       "  </tbody>\n",
       "</table>\n",
       "</div>"
      ],
      "text/plain": [
       "            Counts  Percentage (%)\n",
       "storypoint                        \n",
       "3              465       29.769526\n",
       "1              380       24.327785\n",
       "2              361       23.111396\n",
       "5              239       15.300896\n",
       "8               79        5.057618\n",
       "13              26        1.664533\n",
       "4                9        0.576184\n",
       "40               1        0.064020\n",
       "6                1        0.064020\n",
       "10               1        0.064020"
      ]
     },
     "execution_count": 93,
     "metadata": {},
     "output_type": "execute_result"
    }
   ],
   "source": [
    "tmp = pd.concat([all_data['storypoint'].value_counts(), \n",
    "                 all_data['storypoint'].value_counts() / all_data.shape[0] * 100],\n",
    "                axis=1, keys=['Counts', 'Percentage (%)'])\n",
    "tmp.head(20)"
   ]
  },
  {
   "cell_type": "markdown",
   "metadata": {},
   "source": [
    "At the first sight, this data is bad. Then take a look at the statistic values, this data is even worse. Its distribution of the label is **right-skewed** and **leptokurtis**. This means if we use this to train model, the right side of the data can be the outliers and make the models become unsuable.\n",
    "\n",
    "I will try 2 solutions:\n",
    "- Use log-scale on the label\n",
    "- Remove all the examples with label greater than a threshold (20, 30 or 40)"
   ]
  },
  {
   "cell_type": "markdown",
   "metadata": {},
   "source": [
    "The first solution: logarithm magic"
   ]
  },
  {
   "cell_type": "code",
   "execution_count": 94,
   "metadata": {},
   "outputs": [
    {
     "data": {
      "text/plain": [
       "<Axes: xlabel='storypoint', ylabel='Count'>"
      ]
     },
     "execution_count": 94,
     "metadata": {},
     "output_type": "execute_result"
    },
    {
     "data": {
      "image/png": "[encoded data removed]",
      "text/plain": [
       "<Figure size 640x480 with 1 Axes>"
      ]
     },
     "metadata": {},
     "output_type": "display_data"
    }
   ],
   "source": [
    "sns.histplot(np.log(all_data['storypoint']), bins=20, kde=True)"
   ]
  },
  {
   "cell_type": "code",
   "execution_count": 95,
   "metadata": {},
   "outputs": [
    {
     "name": "stdout",
     "output_type": "stream",
     "text": [
      "Skewness: 0.22513280116895606\n",
      "Kurtosis: -0.34607356217908647\n"
     ]
    }
   ],
   "source": [
    "print('Skewness:', np.log(all_data['storypoint']).skew())\n",
    "print('Kurtosis:', np.log(all_data['storypoint']).kurt())"
   ]
  },
  {
   "cell_type": "markdown",
   "metadata": {},
   "source": [
    "The second solution: Dismantle and Cleave"
   ]
  },
  {
   "cell_type": "code",
   "execution_count": 96,
   "metadata": {},
   "outputs": [
    {
     "name": "stdout",
     "output_type": "stream",
     "text": [
      "Fitered percentage:  0.0 %\n"
     ]
    },
    {
     "data": {
      "image/png": "[encoded data removed]",
      "text/plain": [
       "<Figure size 1200x400 with 1 Axes>"
      ]
     },
     "metadata": {},
     "output_type": "display_data"
    }
   ],
   "source": [
    "threshold = 13 # This threshold means that we will take all the examples with story points less than or equal to 20\n",
    "\n",
    "new_data = all_data[all_data['storypoint'] <= threshold]\n",
    "plt.figure(figsize=(12, 4))\n",
    "plt.xticks(np.arange(0, max(new_data['storypoint']) + 1, 1))\n",
    "sns.histplot(new_data['storypoint'], bins=threshold, kde=True)\n",
    "print('Fitered percentage: ', round(1 - new_data.shape[0] / all_data.shape[0], 2) * 100, '%')"
   ]
  },
  {
   "cell_type": "markdown",
   "metadata": {},
   "source": [
    "#### Input exploration"
   ]
  },
  {
   "cell_type": "markdown",
   "metadata": {},
   "source": [
    "The input of this problem is 2 texts: title and description. First we will find some statistics:"
   ]
  },
  {
   "cell_type": "code",
   "execution_count": 97,
   "metadata": {},
   "outputs": [
    {
     "name": "stdout",
     "output_type": "stream",
     "text": [
      "Title analysis:\n",
      "   - Mean length: 5\n",
      "   - Min length: 1\n",
      "   - Max length: 14\n",
      "Description analysis:\n",
      "   - Mean length: 76\n",
      "   - Min length: 0\n",
      "   - Max length: 1041\n"
     ]
    }
   ],
   "source": [
    "title_lengths = all_data['title'].apply(lambda x: len(x.split(' ')))\n",
    "print('Title analysis:')\n",
    "print('   - Mean length:', round(title_lengths.mean()))\n",
    "print('   - Min length:', title_lengths.min())\n",
    "print('   - Max length:', title_lengths.max())\n",
    "\n",
    "description_lengths = all_data['description'].apply(lambda x: len(x.split(' ')) if type(x) != float else 0)\n",
    "print('Description analysis:')\n",
    "print('   - Mean length:', round(description_lengths.mean()))\n",
    "print('   - Min length:', description_lengths.min())\n",
    "print('   - Max length:', description_lengths.max())"
   ]
  },
  {
   "cell_type": "markdown",
   "metadata": {},
   "source": [
    "Plot the histogram of the title length and KDE of the description length (exclude 0):"
   ]
  },
  {
   "cell_type": "code",
   "execution_count": 98,
   "metadata": {},
   "outputs": [
    {
     "data": {
      "text/plain": [
       "<Axes: xlabel='Description Length', ylabel='Density'>"
      ]
     },
     "execution_count": 98,
     "metadata": {},
     "output_type": "execute_result"
    },
    {
     "data": {
      "image/png": "[encoded data removed]",
      "text/plain": [
       "<Figure size 1200x800 with 2 Axes>"
      ]
     },
     "metadata": {},
     "output_type": "display_data"
    }
   ],
   "source": [
    "plt.figure(figsize=(12, 8))\n",
    "\n",
    "plt.subplot(2, 1, 1)\n",
    "plt.xticks(np.arange(0, max(title_lengths) + 1, 1))\n",
    "plt.xlabel('Title Length')\n",
    "sns.histplot(title_lengths, bins=max(title_lengths))\n",
    "\n",
    "plt.subplot(2, 1, 2)\n",
    "plt.xlabel('Description Length')\n",
    "plt.xscale('log')\n",
    "sns.kdeplot(description_lengths[description_lengths > 0])"
   ]
  },
  {
   "cell_type": "markdown",
   "metadata": {},
   "source": [
    "I think we should check the correlation between title length and description length:"
   ]
  },
  {
   "cell_type": "code",
   "execution_count": 99,
   "metadata": {},
   "outputs": [
    {
     "data": {
      "text/plain": [
       "<Axes: xlabel='description', ylabel='storypoint'>"
      ]
     },
     "execution_count": 99,
     "metadata": {},
     "output_type": "execute_result"
    },
    {
     "data": {
      "image/png": "[encoded data removed]",
      "text/plain": [
       "<Figure size 1200x400 with 2 Axes>"
      ]
     },
     "metadata": {},
     "output_type": "display_data"
    }
   ],
   "source": [
    "plt.figure(figsize=(12, 4))\n",
    "\n",
    "plt.subplot(1, 2, 1)\n",
    "plt.xticks(np.arange(0, max(all_data['title'].apply(lambda x: len(x.split(' ')))) + 1, 5))\n",
    "sns.regplot(x=all_data['title'].apply(lambda x : len(x.split(' '))), \n",
    "            y=all_data['storypoint'], \n",
    "            line_kws={'color': 'red'})\n",
    "\n",
    "plt.subplot(1, 2, 2)\n",
    "sns.regplot(x=all_data['description'].apply(lambda x : len(x.split(' ')) if type(x) != float else 0), \n",
    "            y=all_data['storypoint'], \n",
    "            line_kws={'color': 'red'})"
   ]
  },
  {
   "cell_type": "markdown",
   "metadata": {},
   "source": [
    "Nope, no correlation at all"
   ]
  },
  {
   "cell_type": "markdown",
   "metadata": {},
   "source": [
    "Let dive deeper in the input:"
   ]
  },
  {
   "cell_type": "markdown",
   "metadata": {},
   "source": [
    "Title analysis:"
   ]
  },
  {
   "cell_type": "code",
   "execution_count": 100,
   "metadata": {},
   "outputs": [
    {
     "name": "stdout",
     "output_type": "stream",
     "text": [
      "(2283, 2)\n"
     ]
    },
    {
     "data": {
      "text/html": [
       "<div>\n",
       "<style scoped>\n",
       "    .dataframe tbody tr th:only-of-type {\n",
       "        vertical-align: middle;\n",
       "    }\n",
       "\n",
       "    .dataframe tbody tr th {\n",
       "        vertical-align: top;\n",
       "    }\n",
       "\n",
       "    .dataframe thead th {\n",
       "        text-align: right;\n",
       "    }\n",
       "</style>\n",
       "<table border=\"1\" class=\"dataframe\">\n",
       "  <thead>\n",
       "    <tr style=\"text-align: right;\">\n",
       "      <th></th>\n",
       "      <th>word</th>\n",
       "      <th>frequency</th>\n",
       "    </tr>\n",
       "  </thead>\n",
       "  <tbody>\n",
       "    <tr>\n",
       "      <th>2101</th>\n",
       "      <td>zookeepers</td>\n",
       "      <td>2282</td>\n",
       "    </tr>\n",
       "    <tr>\n",
       "      <th>293</th>\n",
       "      <td>zookeepermastercontenderdetectortestmasterdete...</td>\n",
       "      <td>2281</td>\n",
       "    </tr>\n",
       "    <tr>\n",
       "      <th>996</th>\n",
       "      <td>zookeeper</td>\n",
       "      <td>2280</td>\n",
       "    </tr>\n",
       "    <tr>\n",
       "      <th>158</th>\n",
       "      <td>znode</td>\n",
       "      <td>2279</td>\n",
       "    </tr>\n",
       "    <tr>\n",
       "      <th>1460</th>\n",
       "      <td>zero</td>\n",
       "      <td>2278</td>\n",
       "    </tr>\n",
       "    <tr>\n",
       "      <th>1435</th>\n",
       "      <td>yum</td>\n",
       "      <td>2277</td>\n",
       "    </tr>\n",
       "    <tr>\n",
       "      <th>2072</th>\n",
       "      <td>yet</td>\n",
       "      <td>2276</td>\n",
       "    </tr>\n",
       "    <tr>\n",
       "      <th>658</th>\n",
       "      <td>xargs</td>\n",
       "      <td>2275</td>\n",
       "    </tr>\n",
       "    <tr>\n",
       "      <th>1304</th>\n",
       "      <td>wrongly</td>\n",
       "      <td>2274</td>\n",
       "    </tr>\n",
       "    <tr>\n",
       "      <th>264</th>\n",
       "      <td>wrong</td>\n",
       "      <td>2273</td>\n",
       "    </tr>\n",
       "  </tbody>\n",
       "</table>\n",
       "</div>"
      ],
      "text/plain": [
       "                                                   word  frequency\n",
       "2101                                         zookeepers       2282\n",
       "293   zookeepermastercontenderdetectortestmasterdete...       2281\n",
       "996                                           zookeeper       2280\n",
       "158                                               znode       2279\n",
       "1460                                               zero       2278\n",
       "1435                                                yum       2277\n",
       "2072                                                yet       2276\n",
       "658                                               xargs       2275\n",
       "1304                                            wrongly       2274\n",
       "264                                               wrong       2273"
      ]
     },
     "execution_count": 100,
     "metadata": {},
     "output_type": "execute_result"
    }
   ],
   "source": [
    "count_vectorizer = CountVectorizer()\n",
    "count_vectorizer.fit(all_data['title'])\n",
    "\n",
    "dictionary = pd.DataFrame(list(count_vectorizer.vocabulary_.items()), columns=['word', 'frequency'])\n",
    "dictionary.sort_values(by='frequency', ascending=False, inplace=True)\n",
    "print(dictionary.shape)\n",
    "dictionary.head(10)"
   ]
  },
  {
   "cell_type": "markdown",
   "metadata": {},
   "source": [
    "Description analysis:"
   ]
  },
  {
   "cell_type": "code",
   "execution_count": 101,
   "metadata": {},
   "outputs": [
    {
     "name": "stdout",
     "output_type": "stream",
     "text": [
      "(10899, 2)\n"
     ]
    },
    {
     "data": {
      "text/html": [
       "<div>\n",
       "<style scoped>\n",
       "    .dataframe tbody tr th:only-of-type {\n",
       "        vertical-align: middle;\n",
       "    }\n",
       "\n",
       "    .dataframe tbody tr th {\n",
       "        vertical-align: top;\n",
       "    }\n",
       "\n",
       "    .dataframe thead th {\n",
       "        text-align: right;\n",
       "    }\n",
       "</style>\n",
       "<table border=\"1\" class=\"dataframe\">\n",
       "  <thead>\n",
       "    <tr style=\"text-align: right;\">\n",
       "      <th></th>\n",
       "      <th>word</th>\n",
       "      <th>frequency</th>\n",
       "    </tr>\n",
       "  </thead>\n",
       "  <tbody>\n",
       "    <tr>\n",
       "      <th>10412</th>\n",
       "      <td>zzznprocessprocessbasevisiterkns</td>\n",
       "      <td>10898</td>\n",
       "    </tr>\n",
       "    <tr>\n",
       "      <th>7717</th>\n",
       "      <td>zznprocessprocessmanagerinitthreadsevenkulrkst...</td>\n",
       "      <td>10897</td>\n",
       "    </tr>\n",
       "    <tr>\n",
       "      <th>8396</th>\n",
       "      <td>zznprocessdispatchinothingnsasyncexecutorproce...</td>\n",
       "      <td>10896</td>\n",
       "    </tr>\n",
       "    <tr>\n",
       "      <th>6376</th>\n",
       "      <td>zznprocessdispatchinothingnmesosinternalslavem...</td>\n",
       "      <td>10895</td>\n",
       "    </tr>\n",
       "    <tr>\n",
       "      <th>7711</th>\n",
       "      <td>zznprocessdispatchinmesosinternalcommandexecut...</td>\n",
       "      <td>10894</td>\n",
       "    </tr>\n",
       "    <tr>\n",
       "      <th>9729</th>\n",
       "      <td>zznprocessdispatchibnmesosinternalslavemesosco...</td>\n",
       "      <td>10893</td>\n",
       "    </tr>\n",
       "    <tr>\n",
       "      <th>5098</th>\n",
       "      <td>zznkprocessfutureisseonanyizndockerinspecterks...</td>\n",
       "      <td>10892</td>\n",
       "    </tr>\n",
       "    <tr>\n",
       "      <th>5112</th>\n",
       "      <td>zznkprocessfutureioptioniieeonanyizndockerinsp...</td>\n",
       "      <td>10891</td>\n",
       "    </tr>\n",
       "    <tr>\n",
       "      <th>5126</th>\n",
       "      <td>zznkprocessfutureioptioniieeonanyistbindifpfvr...</td>\n",
       "      <td>10890</td>\n",
       "    </tr>\n",
       "    <tr>\n",
       "      <th>5097</th>\n",
       "      <td>zzndockerinspecterkssrknprocessownedinspromise...</td>\n",
       "      <td>10889</td>\n",
       "    </tr>\n",
       "    <tr>\n",
       "      <th>5110</th>\n",
       "      <td>zzndockerinspecterkssrknprocessownedinspromise...</td>\n",
       "      <td>10888</td>\n",
       "    </tr>\n",
       "    <tr>\n",
       "      <th>1160</th>\n",
       "      <td>zookeepertestservercpp</td>\n",
       "      <td>10887</td>\n",
       "    </tr>\n",
       "    <tr>\n",
       "      <th>1161</th>\n",
       "      <td>zookeepertestserver</td>\n",
       "      <td>10886</td>\n",
       "    </tr>\n",
       "    <tr>\n",
       "      <th>7688</th>\n",
       "      <td>zookeepertest</td>\n",
       "      <td>10885</td>\n",
       "    </tr>\n",
       "    <tr>\n",
       "      <th>10772</th>\n",
       "      <td>zookeepernetwork</td>\n",
       "      <td>10884</td>\n",
       "    </tr>\n",
       "    <tr>\n",
       "      <th>1661</th>\n",
       "      <td>zookeepermastercontenderdetectortestmasterdete...</td>\n",
       "      <td>10883</td>\n",
       "    </tr>\n",
       "    <tr>\n",
       "      <th>7142</th>\n",
       "      <td>zookeepergroupprocessupdatedlong</td>\n",
       "      <td>10882</td>\n",
       "    </tr>\n",
       "    <tr>\n",
       "      <th>7186</th>\n",
       "      <td>zookeepergroupprocessoperatorzookeepergrouppro...</td>\n",
       "      <td>10881</td>\n",
       "    </tr>\n",
       "    <tr>\n",
       "      <th>7147</th>\n",
       "      <td>zookeepergroupprocesslong</td>\n",
       "      <td>10880</td>\n",
       "    </tr>\n",
       "    <tr>\n",
       "      <th>7139</th>\n",
       "      <td>zookeepergroupprocesscache</td>\n",
       "      <td>10879</td>\n",
       "    </tr>\n",
       "  </tbody>\n",
       "</table>\n",
       "</div>"
      ],
      "text/plain": [
       "                                                    word  frequency\n",
       "10412                   zzznprocessprocessbasevisiterkns      10898\n",
       "7717   zznprocessprocessmanagerinitthreadsevenkulrkst...      10897\n",
       "8396   zznprocessdispatchinothingnsasyncexecutorproce...      10896\n",
       "6376   zznprocessdispatchinothingnmesosinternalslavem...      10895\n",
       "7711   zznprocessdispatchinmesosinternalcommandexecut...      10894\n",
       "9729   zznprocessdispatchibnmesosinternalslavemesosco...      10893\n",
       "5098   zznkprocessfutureisseonanyizndockerinspecterks...      10892\n",
       "5112   zznkprocessfutureioptioniieeonanyizndockerinsp...      10891\n",
       "5126   zznkprocessfutureioptioniieeonanyistbindifpfvr...      10890\n",
       "5097   zzndockerinspecterkssrknprocessownedinspromise...      10889\n",
       "5110   zzndockerinspecterkssrknprocessownedinspromise...      10888\n",
       "1160                              zookeepertestservercpp      10887\n",
       "1161                                 zookeepertestserver      10886\n",
       "7688                                       zookeepertest      10885\n",
       "10772                                   zookeepernetwork      10884\n",
       "1661   zookeepermastercontenderdetectortestmasterdete...      10883\n",
       "7142                    zookeepergroupprocessupdatedlong      10882\n",
       "7186   zookeepergroupprocessoperatorzookeepergrouppro...      10881\n",
       "7147                           zookeepergroupprocesslong      10880\n",
       "7139                          zookeepergroupprocesscache      10879"
      ]
     },
     "execution_count": 101,
     "metadata": {},
     "output_type": "execute_result"
    }
   ],
   "source": [
    "count_vectorizer = CountVectorizer()\n",
    "count_vectorizer.fit(all_data[all_data['description'].isnull() == False]['description'])\n",
    "\n",
    "dictionary = pd.DataFrame(list(count_vectorizer.vocabulary_.items()), columns=['word', 'frequency'])\n",
    "dictionary.sort_values(by='frequency', ascending=False, inplace=True)\n",
    "print(dictionary.shape)\n",
    "dictionary.head(20)"
   ]
  },
  {
   "cell_type": "markdown",
   "metadata": {},
   "source": [
    "Yet I don't find any thing special about the words in input except so many things are bad."
   ]
  },
  {
   "cell_type": "markdown",
   "metadata": {},
   "source": [
    "### Solving strategies"
   ]
  },
  {
   "cell_type": "markdown",
   "metadata": {},
   "source": [
    "My first intuitation in this problem is that the hard part is not on the algorithm we use, it is on the **embedding** part. Therefore, in case the given embedded datasets work not properly, I will use a better embedding method which is **Bidirectional Encoder Representations from Transformers (BERT)**. Also, I will try an old way to embedding the text too: **Bag of words**.\n",
    "\n",
    "In conclusion, I will have 4 ways to embed the text:\n",
    "- doc2vec (already available)\n",
    "- Look up (already available)\n",
    "- Bag Of Words\n",
    "- BERT"
   ]
  },
  {
   "cell_type": "markdown",
   "metadata": {},
   "source": [
    "About algorithm, I will try all the regression algorithm that may give a good result:\n",
    "\n",
    "- Ridge Regressor\n",
    "- Support Vector Regressor\n",
    "- Random Forest Regressor\n",
    "- Gradient Boosting\n",
    "- XGBoost\n",
    "- Lightgbm\n",
    "- Blended"
   ]
  },
  {
   "cell_type": "markdown",
   "metadata": {},
   "source": [
    "Maybe, we can change the problem to the classification problem with 100 labels (desparation confirmed). In the classification problem, I will use:\n",
    "- Support Vector Classifier\n",
    "- Softmax Regression (Multinomial Logistic Regression)\n",
    "- Random Forest\n",
    "- Adaboost\n",
    "- XGBoost"
   ]
  },
  {
   "cell_type": "markdown",
   "metadata": {},
   "source": [
    "\n",
    "Thanks to the libaries, the implementation of all the algorithm shrinks to its minimum form."
   ]
  },
  {
   "cell_type": "markdown",
   "metadata": {},
   "source": [
    "At last, there is still a situation that all of mentioned model don't give a good result. This gamble is thrilling (hopeless).\n",
    "\n",
    "*\"But would you lose?\"*\n",
    "\n",
    "Nah, I'd win."
   ]
  }
 ],
 "metadata": {
  "kernelspec": {
   "display_name": "Python 3",
   "language": "python",
   "name": "python3"
  },
  "language_info": {
   "codemirror_mode": {
    "name": "ipython",
    "version": 3
   },
   "file_extension": ".py",
   "mimetype": "text/x-python",
   "name": "python",
   "nbconvert_exporter": "python",
   "pygments_lexer": "ipython3",
   "version": "3.11.9"
  }
 },
 "nbformat": 4,
 "nbformat_minor": 2
}
