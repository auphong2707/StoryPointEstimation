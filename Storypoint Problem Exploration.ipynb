{
 "cells": [
  {
   "cell_type": "markdown",
   "metadata": {},
   "source": [
    "# Storypoint Prediction: Problem Exploration"
   ]
  },
  {
   "cell_type": "markdown",
   "metadata": {},
   "source": [
    "## Problem Statement"
   ]
  },
  {
   "cell_type": "markdown",
   "metadata": {},
   "source": [
    "In modern agile development settings, software is developed through repeated cycles (iterative) and in smaller parts at a time (incremental), allowing for adaptation to changing requirements at any point during a project’s life. A project has a number of iterations (e.g. sprints in Scrum). Each iteration requires the completion of a number of user stories, which are a common way for agile teams to express user requirements. \n",
    "\n",
    "There is thus a need to focus on estimating the effort of completing a single user story at a time rather than the entire project. In fact, it has now become a common practice for agile teams to go through each user story and estimate its “size”. Story points are commonly used as a unit of measure for specifying the overall size of a user story.\n"
   ]
  },
  {
   "cell_type": "markdown",
   "metadata": {},
   "source": [
    "## Problem Formulation"
   ]
  },
  {
   "cell_type": "markdown",
   "metadata": {},
   "source": [
    "**Input:** A string of length *N* that contains a story's name and description $C=\\{c_1, c_2, c_3,..., c_n\\}$. For each story, a set of text embeddings that contains features $E=\\{e_1, e_2, e_3,...,e_m\\}$ extracted from C has been provided.\n",
    "\n",
    "**Output**: A natural number P associated with the story point of that user story"
   ]
  },
  {
   "cell_type": "markdown",
   "metadata": {},
   "source": [
    "## Dataset Information"
   ]
  },
  {
   "cell_type": "markdown",
   "metadata": {},
   "source": [
    "**Text Embeddings:** Text embeddings are a way to convert words or phrases from text into a list of numbers, where each number captures a part of the text's meaning. The dataset has been preprocessed and converted into two kinds of text embeddings. You can choose to work with either of them or both:\n",
    "- Doc2Vec: Input strings are transformed into fixed-length vectors of size 128. These vectors capture the semantic meaning of words and their relationships within a document.\n",
    "- Look-upTable: Input strings are transformed into fixed-length vectors of size 2264. These vectors are obtained via transforming each word in the input strings into an identifier number, then padded to the length of the longest sample.\n"
   ]
  },
  {
   "cell_type": "markdown",
   "metadata": {},
   "source": [
    "**Dataset Structure & Format:** Storypoint Estimation Dataset is stored in 3 folders labeled *raw data*, *look-up*, and *doc2vec*. Within each folder are 3 CSV files for training, testing, validation. Each csv file has the following columns:\n",
    "-\t`issuekey` : The unique identifier for a story.\n",
    "-\t`storypoint`: The correct number of storypoint.\n",
    "-\tAn embedding column (`embedding` or  `doc2vec`) contains text embedding vectors. The raw data csv will not have this and instead contain two columns with story `name` and `description`.\n"
   ]
  },
  {
   "cell_type": "markdown",
   "metadata": {},
   "source": [
    "## Exploration"
   ]
  },
  {
   "cell_type": "markdown",
   "metadata": {},
   "source": [
    "### Raw data exploration"
   ]
  },
  {
   "cell_type": "code",
   "execution_count": 15,
   "metadata": {},
   "outputs": [],
   "source": [
    "import pandas as pd\n",
    "import numpy as np\n",
    "import matplotlib.pyplot as plt\n",
    "import seaborn as sns\n",
    "\n",
    "from sklearn.feature_extraction.text import CountVectorizer"
   ]
  },
  {
   "cell_type": "markdown",
   "metadata": {},
   "source": [
    "#### Output exploration"
   ]
  },
  {
   "cell_type": "code",
   "execution_count": 16,
   "metadata": {},
   "outputs": [
    {
     "name": "stdout",
     "output_type": "stream",
     "text": [
      "Check the shape of the dataset (889, 4)\n"
     ]
    }
   ],
   "source": [
    "# Import raw data from the CSV file\n",
    "\n",
    "#['appceleratorstudio', 'aptanastudio', 'bamboo', 'clover', \n",
    "# 'datamanagement', 'duracloud', 'jirasoftware', 'mesos', \n",
    "# 'moodle', 'mule', 'mulestudio', 'springxd', \n",
    "# 'talenddataquality', 'talendesb', 'titanium', 'usergrid']\n",
    "project_name = 'appceleratorstudio'\n",
    "\n",
    "# ['BoW', 'doc2vec']\n",
    "type_of_dataset = 'BoW'\n",
    "\n",
    "settings_directory = 'settings/Classification/{dt}/{pn}/'.format(dt=type_of_dataset, pn=project_name)\n",
    "results_directory = 'results/Classification/{dt}/'.format(dt=type_of_dataset)\n",
    "project_name = 'mule'\n",
    "\n",
    "all_data = pd.concat([pd.read_csv('data/' + project_name + '/' + project_name + '_train.csv'), \n",
    "                      pd.read_csv('data/' + project_name + '/' + project_name + '_valid.csv'),\n",
    "                      pd.read_csv('data/' + project_name + '/' + project_name + '_test.csv')])\n",
    "\n",
    "print('Check the shape of the dataset', all_data.shape)\n"
   ]
  },
  {
   "cell_type": "code",
   "execution_count": 17,
   "metadata": {},
   "outputs": [
    {
     "data": {
      "text/html": [
       "<div>\n",
       "<style scoped>\n",
       "    .dataframe tbody tr th:only-of-type {\n",
       "        vertical-align: middle;\n",
       "    }\n",
       "\n",
       "    .dataframe tbody tr th {\n",
       "        vertical-align: top;\n",
       "    }\n",
       "\n",
       "    .dataframe thead th {\n",
       "        text-align: right;\n",
       "    }\n",
       "</style>\n",
       "<table border=\"1\" class=\"dataframe\">\n",
       "  <thead>\n",
       "    <tr style=\"text-align: right;\">\n",
       "      <th></th>\n",
       "      <th>title</th>\n",
       "      <th>description</th>\n",
       "      <th>storypoint</th>\n",
       "    </tr>\n",
       "  </thead>\n",
       "  <tbody>\n",
       "    <tr>\n",
       "      <th>0</th>\n",
       "      <td>implement true multicast functionality processor</td>\n",
       "      <td>currently processes messages sequentially coul...</td>\n",
       "      <td>8</td>\n",
       "    </tr>\n",
       "    <tr>\n",
       "      <th>1</th>\n",
       "      <td>mule support transaction resources used spring...</td>\n",
       "      <td>know common use case bridge pattern read messa...</td>\n",
       "      <td>8</td>\n",
       "    </tr>\n",
       "    <tr>\n",
       "      <th>2</th>\n",
       "      <td>include validation module mule core distribution</td>\n",
       "      <td>emiliano created validation module something t...</td>\n",
       "      <td>8</td>\n",
       "    </tr>\n",
       "    <tr>\n",
       "      <th>3</th>\n",
       "      <td>untilsuccessful set exception payload last exc...</td>\n",
       "      <td>title says see thread discussions deprecate dl...</td>\n",
       "      <td>5</td>\n",
       "    </tr>\n",
       "    <tr>\n",
       "      <th>4</th>\n",
       "      <td>untilsuccessful support synchronous use cases</td>\n",
       "      <td>imagine simple synchronous http proxy use case...</td>\n",
       "      <td>8</td>\n",
       "    </tr>\n",
       "  </tbody>\n",
       "</table>\n",
       "</div>"
      ],
      "text/plain": [
       "                                               title  \\\n",
       "0   implement true multicast functionality processor   \n",
       "1  mule support transaction resources used spring...   \n",
       "2   include validation module mule core distribution   \n",
       "3  untilsuccessful set exception payload last exc...   \n",
       "4      untilsuccessful support synchronous use cases   \n",
       "\n",
       "                                         description  storypoint  \n",
       "0  currently processes messages sequentially coul...           8  \n",
       "1  know common use case bridge pattern read messa...           8  \n",
       "2  emiliano created validation module something t...           8  \n",
       "3  title says see thread discussions deprecate dl...           5  \n",
       "4  imagine simple synchronous http proxy use case...           8  "
      ]
     },
     "execution_count": 17,
     "metadata": {},
     "output_type": "execute_result"
    }
   ],
   "source": [
    "all_data.drop(['issuekey'], axis=1, inplace=True)\n",
    "all_data.head()"
   ]
  },
  {
   "cell_type": "markdown",
   "metadata": {},
   "source": [
    "First, let take a look at the distribution of the story point:"
   ]
  },
  {
   "cell_type": "markdown",
   "metadata": {},
   "source": [
    "Interpretation of Skewness Values:\n",
    "\n",
    "- **Skewness > 0**: Right-skewed distribution.\n",
    "- **Skewness < 0**: Left-skewed distribution.\n",
    "- **Skewness = 0**: Symmetrical distribution (like a normal distribution)."
   ]
  },
  {
   "cell_type": "markdown",
   "metadata": {},
   "source": [
    "Interpretaion of kurtosis:\n",
    "- **Leptokurtic (Kurtosis > 0)**: The distribution has heavier tails and a sharper peak than the normal distribution. Data points are more likely to produce extreme values. The distribution has a higher peak and fatter tails.\n",
    "- **Platykurtic (Kurtosis < 0)**: The distribution has lighter tails and a flatter peak than the normal distribution. Data are fewer extreme values compared to a normal distribution.\n",
    "- **Mesokurtic (Kurtosis ≈ 0)**: The distribution has a similar kurtosis to the normal distribution, indicating a moderate level of outliers."
   ]
  },
  {
   "cell_type": "code",
   "execution_count": 18,
   "metadata": {},
   "outputs": [
    {
     "name": "stdout",
     "output_type": "stream",
     "text": [
      "Skewness: 1.2748024522567163\n",
      "Kurtosis: 2.855540938407874\n"
     ]
    },
    {
     "data": {
      "image/png": "[encoded data removed]",
      "text/plain": [
       "<Figure size 1200x400 with 1 Axes>"
      ]
     },
     "metadata": {},
     "output_type": "display_data"
    }
   ],
   "source": [
    "# Draw a histogram of the story points\n",
    "plt.figure(figsize=(12, 4))\n",
    "plt.xticks(np.arange(0, max(all_data['storypoint']) + 1, 5))\n",
    "sns.histplot(all_data['storypoint'], bins=100, kde=True)\n",
    "\n",
    "print('Skewness:', all_data['storypoint'].skew())\n",
    "print('Kurtosis:', all_data['storypoint'].kurt())"
   ]
  },
  {
   "cell_type": "code",
   "execution_count": 19,
   "metadata": {},
   "outputs": [
    {
     "data": {
      "text/html": [
       "<div>\n",
       "<style scoped>\n",
       "    .dataframe tbody tr th:only-of-type {\n",
       "        vertical-align: middle;\n",
       "    }\n",
       "\n",
       "    .dataframe tbody tr th {\n",
       "        vertical-align: top;\n",
       "    }\n",
       "\n",
       "    .dataframe thead th {\n",
       "        text-align: right;\n",
       "    }\n",
       "</style>\n",
       "<table border=\"1\" class=\"dataframe\">\n",
       "  <thead>\n",
       "    <tr style=\"text-align: right;\">\n",
       "      <th></th>\n",
       "      <th>Counts</th>\n",
       "      <th>Percentage (%)</th>\n",
       "    </tr>\n",
       "    <tr>\n",
       "      <th>storypoint</th>\n",
       "      <th></th>\n",
       "      <th></th>\n",
       "    </tr>\n",
       "  </thead>\n",
       "  <tbody>\n",
       "    <tr>\n",
       "      <th>5</th>\n",
       "      <td>233</td>\n",
       "      <td>26.209224</td>\n",
       "    </tr>\n",
       "    <tr>\n",
       "      <th>8</th>\n",
       "      <td>224</td>\n",
       "      <td>25.196850</td>\n",
       "    </tr>\n",
       "    <tr>\n",
       "      <th>3</th>\n",
       "      <td>160</td>\n",
       "      <td>17.997750</td>\n",
       "    </tr>\n",
       "    <tr>\n",
       "      <th>1</th>\n",
       "      <td>159</td>\n",
       "      <td>17.885264</td>\n",
       "    </tr>\n",
       "    <tr>\n",
       "      <th>2</th>\n",
       "      <td>54</td>\n",
       "      <td>6.074241</td>\n",
       "    </tr>\n",
       "    <tr>\n",
       "      <th>13</th>\n",
       "      <td>49</td>\n",
       "      <td>5.511811</td>\n",
       "    </tr>\n",
       "    <tr>\n",
       "      <th>21</th>\n",
       "      <td>8</td>\n",
       "      <td>0.899888</td>\n",
       "    </tr>\n",
       "    <tr>\n",
       "      <th>4</th>\n",
       "      <td>2</td>\n",
       "      <td>0.224972</td>\n",
       "    </tr>\n",
       "  </tbody>\n",
       "</table>\n",
       "</div>"
      ],
      "text/plain": [
       "            Counts  Percentage (%)\n",
       "storypoint                        \n",
       "5              233       26.209224\n",
       "8              224       25.196850\n",
       "3              160       17.997750\n",
       "1              159       17.885264\n",
       "2               54        6.074241\n",
       "13              49        5.511811\n",
       "21               8        0.899888\n",
       "4                2        0.224972"
      ]
     },
     "execution_count": 19,
     "metadata": {},
     "output_type": "execute_result"
    }
   ],
   "source": [
    "tmp = pd.concat([all_data['storypoint'].value_counts(), \n",
    "                 all_data['storypoint'].value_counts() / all_data.shape[0] * 100],\n",
    "                axis=1, keys=['Counts', 'Percentage (%)'])\n",
    "tmp.head(20)"
   ]
  },
  {
   "cell_type": "markdown",
   "metadata": {},
   "source": [
    "The kurtosis looks good but the skewness is not.\n",
    "\n",
    "I will try 2 solutions:\n",
    "- Use log-scale on the label\n",
    "- Remove all the examples with label greater than a threshold (20, 30 or 40)"
   ]
  },
  {
   "cell_type": "markdown",
   "metadata": {},
   "source": [
    "The first solution: logarithm magic"
   ]
  },
  {
   "cell_type": "code",
   "execution_count": 20,
   "metadata": {},
   "outputs": [
    {
     "data": {
      "text/plain": [
       "<Axes: xlabel='storypoint', ylabel='Count'>"
      ]
     },
     "execution_count": 20,
     "metadata": {},
     "output_type": "execute_result"
    },
    {
     "data": {
      "image/png": "[encoded data removed]",
      "text/plain": [
       "<Figure size 640x480 with 1 Axes>"
      ]
     },
     "metadata": {},
     "output_type": "display_data"
    }
   ],
   "source": [
    "sns.histplot(np.log(all_data['storypoint']), bins=20, kde=True)"
   ]
  },
  {
   "cell_type": "code",
   "execution_count": 21,
   "metadata": {},
   "outputs": [
    {
     "name": "stdout",
     "output_type": "stream",
     "text": [
      "Skewness: -0.46738335118599855\n",
      "Kurtosis: -0.7267872020080017\n"
     ]
    }
   ],
   "source": [
    "print('Skewness:', np.log(all_data['storypoint']).skew())\n",
    "print('Kurtosis:', np.log(all_data['storypoint']).kurt())"
   ]
  },
  {
   "cell_type": "markdown",
   "metadata": {},
   "source": [
    "Kurtosis now becomes platokurtosis but skewness is better than before"
   ]
  },
  {
   "cell_type": "markdown",
   "metadata": {},
   "source": [
    "The second solution: Dismantle and Cleave"
   ]
  },
  {
   "cell_type": "code",
   "execution_count": 22,
   "metadata": {},
   "outputs": [
    {
     "name": "stdout",
     "output_type": "stream",
     "text": [
      "Fitered percentage:  1.0 %\n"
     ]
    },
    {
     "data": {
      "image/png": "[encoded data removed]",
      "text/plain": [
       "<Figure size 1200x400 with 1 Axes>"
      ]
     },
     "metadata": {},
     "output_type": "display_data"
    }
   ],
   "source": [
    "threshold = 15 # This threshold means that we will take all the examples with story points less than or equal to 15\n",
    "\n",
    "new_data = all_data[all_data['storypoint'] <= threshold]\n",
    "plt.figure(figsize=(12, 4))\n",
    "plt.xticks(np.arange(0, max(new_data['storypoint']) + 1, 1))\n",
    "sns.histplot(new_data['storypoint'], bins=threshold, kde=True)\n",
    "print('Fitered percentage: ', round(1 - new_data.shape[0] / all_data.shape[0], 2) * 100, '%')"
   ]
  },
  {
   "cell_type": "code",
   "execution_count": 23,
   "metadata": {},
   "outputs": [
    {
     "name": "stdout",
     "output_type": "stream",
     "text": [
      "Skewness: 0.7143226563678982\n",
      "Kurtosis: 0.07981422799207172\n"
     ]
    }
   ],
   "source": [
    "print('Skewness:', new_data['storypoint'].skew())\n",
    "print('Kurtosis:', new_data['storypoint'].kurt())"
   ]
  },
  {
   "cell_type": "markdown",
   "metadata": {},
   "source": [
    "#### Input exploration"
   ]
  },
  {
   "cell_type": "markdown",
   "metadata": {},
   "source": [
    "The input of this problem is 2 texts: title and description. First we will find some statistics:"
   ]
  },
  {
   "cell_type": "code",
   "execution_count": 24,
   "metadata": {},
   "outputs": [
    {
     "name": "stdout",
     "output_type": "stream",
     "text": [
      "Title analysis:\n",
      "   - Mean length: 6\n",
      "   - Min length: 1\n",
      "   - Max length: 17\n",
      "Description analysis:\n",
      "   - Mean length: 31\n",
      "   - Min length: 0\n",
      "   - Max length: 833\n"
     ]
    }
   ],
   "source": [
    "title_lengths = all_data['title'].apply(lambda x: len(x.split(' ')))\n",
    "print('Title analysis:')\n",
    "print('   - Mean length:', round(title_lengths.mean()))\n",
    "print('   - Min length:', title_lengths.min())\n",
    "print('   - Max length:', title_lengths.max())\n",
    "\n",
    "description_lengths = all_data['description'].apply(lambda x: len(x.split(' ')) if type(x) != float else 0)\n",
    "print('Description analysis:')\n",
    "print('   - Mean length:', round(description_lengths.mean()))\n",
    "print('   - Min length:', description_lengths.min())\n",
    "print('   - Max length:', description_lengths.max())"
   ]
  },
  {
   "cell_type": "markdown",
   "metadata": {},
   "source": [
    "Plot the histogram of the title length and KDE of the description length (exclude 0):"
   ]
  },
  {
   "cell_type": "code",
   "execution_count": 25,
   "metadata": {},
   "outputs": [
    {
     "data": {
      "text/plain": [
       "<Axes: xlabel='Description Length', ylabel='Density'>"
      ]
     },
     "execution_count": 25,
     "metadata": {},
     "output_type": "execute_result"
    },
    {
     "data": {
      "image/png": "[encoded data removed]",
      "text/plain": [
       "<Figure size 1200x800 with 2 Axes>"
      ]
     },
     "metadata": {},
     "output_type": "display_data"
    }
   ],
   "source": [
    "plt.figure(figsize=(12, 8))\n",
    "\n",
    "plt.subplot(2, 1, 1)\n",
    "plt.xticks(np.arange(0, max(title_lengths) + 1, 1))\n",
    "plt.xlabel('Title Length')\n",
    "sns.histplot(title_lengths, bins=max(title_lengths))\n",
    "\n",
    "plt.subplot(2, 1, 2)\n",
    "plt.xlabel('Description Length')\n",
    "plt.xscale('log')\n",
    "sns.kdeplot(description_lengths[description_lengths > 0])"
   ]
  },
  {
   "cell_type": "markdown",
   "metadata": {},
   "source": [
    "I think we should check the correlation between title length and description length:"
   ]
  },
  {
   "cell_type": "code",
   "execution_count": 26,
   "metadata": {},
   "outputs": [
    {
     "data": {
      "text/plain": [
       "<Axes: xlabel='description', ylabel='storypoint'>"
      ]
     },
     "execution_count": 26,
     "metadata": {},
     "output_type": "execute_result"
    },
    {
     "data": {
      "image/png": "[encoded data removed]",
      "text/plain": [
       "<Figure size 1200x400 with 2 Axes>"
      ]
     },
     "metadata": {},
     "output_type": "display_data"
    }
   ],
   "source": [
    "plt.figure(figsize=(12, 4))\n",
    "\n",
    "plt.subplot(1, 2, 1)\n",
    "plt.xticks(np.arange(0, max(all_data['title'].apply(lambda x: len(x.split(' ')))) + 1, 5))\n",
    "sns.regplot(x=all_data['title'].apply(lambda x : len(x.split(' '))), \n",
    "            y=all_data['storypoint'], \n",
    "            line_kws={'color': 'red'})\n",
    "\n",
    "plt.subplot(1, 2, 2)\n",
    "sns.regplot(x=all_data['description'].apply(lambda x : len(x.split(' ')) if type(x) != float else 0), \n",
    "            y=all_data['storypoint'], \n",
    "            line_kws={'color': 'red'})"
   ]
  },
  {
   "cell_type": "markdown",
   "metadata": {},
   "source": [
    "Let dive deeper in the input:"
   ]
  },
  {
   "cell_type": "markdown",
   "metadata": {},
   "source": [
    "Title analysis:"
   ]
  },
  {
   "cell_type": "code",
   "execution_count": 27,
   "metadata": {},
   "outputs": [
    {
     "name": "stdout",
     "output_type": "stream",
     "text": [
      "(1620, 2)\n"
     ]
    },
    {
     "data": {
      "text/html": [
       "<div>\n",
       "<style scoped>\n",
       "    .dataframe tbody tr th:only-of-type {\n",
       "        vertical-align: middle;\n",
       "    }\n",
       "\n",
       "    .dataframe tbody tr th {\n",
       "        vertical-align: top;\n",
       "    }\n",
       "\n",
       "    .dataframe thead th {\n",
       "        text-align: right;\n",
       "    }\n",
       "</style>\n",
       "<table border=\"1\" class=\"dataframe\">\n",
       "  <thead>\n",
       "    <tr style=\"text-align: right;\">\n",
       "      <th></th>\n",
       "      <th>word</th>\n",
       "      <th>frequency</th>\n",
       "    </tr>\n",
       "  </thead>\n",
       "  <tbody>\n",
       "    <tr>\n",
       "      <th>543</th>\n",
       "      <td>zip</td>\n",
       "      <td>1619</td>\n",
       "    </tr>\n",
       "    <tr>\n",
       "      <th>713</th>\n",
       "      <td>xxe</td>\n",
       "      <td>1618</td>\n",
       "    </tr>\n",
       "    <tr>\n",
       "      <th>1349</th>\n",
       "      <td>xwwwformurlencoded</td>\n",
       "      <td>1617</td>\n",
       "    </tr>\n",
       "    <tr>\n",
       "      <th>67</th>\n",
       "      <td>xslttransformer</td>\n",
       "      <td>1616</td>\n",
       "    </tr>\n",
       "    <tr>\n",
       "      <th>711</th>\n",
       "      <td>xslt</td>\n",
       "      <td>1615</td>\n",
       "    </tr>\n",
       "    <tr>\n",
       "      <th>1584</th>\n",
       "      <td>xsdimport</td>\n",
       "      <td>1614</td>\n",
       "    </tr>\n",
       "    <tr>\n",
       "      <th>979</th>\n",
       "      <td>xsd</td>\n",
       "      <td>1613</td>\n",
       "    </tr>\n",
       "    <tr>\n",
       "      <th>336</th>\n",
       "      <td>xpath</td>\n",
       "      <td>1612</td>\n",
       "    </tr>\n",
       "    <tr>\n",
       "      <th>1374</th>\n",
       "      <td>xmltoxmlstreamreader</td>\n",
       "      <td>1611</td>\n",
       "    </tr>\n",
       "    <tr>\n",
       "      <th>1515</th>\n",
       "      <td>xmlstreamexception</td>\n",
       "      <td>1610</td>\n",
       "    </tr>\n",
       "  </tbody>\n",
       "</table>\n",
       "</div>"
      ],
      "text/plain": [
       "                      word  frequency\n",
       "543                    zip       1619\n",
       "713                    xxe       1618\n",
       "1349    xwwwformurlencoded       1617\n",
       "67         xslttransformer       1616\n",
       "711                   xslt       1615\n",
       "1584             xsdimport       1614\n",
       "979                    xsd       1613\n",
       "336                  xpath       1612\n",
       "1374  xmltoxmlstreamreader       1611\n",
       "1515    xmlstreamexception       1610"
      ]
     },
     "execution_count": 27,
     "metadata": {},
     "output_type": "execute_result"
    }
   ],
   "source": [
    "count_vectorizer = CountVectorizer()\n",
    "count_vectorizer.fit(all_data['title'])\n",
    "\n",
    "dictionary = pd.DataFrame(list(count_vectorizer.vocabulary_.items()), columns=['word', 'frequency'])\n",
    "dictionary.sort_values(by='frequency', ascending=False, inplace=True)\n",
    "print(dictionary.shape)\n",
    "dictionary.head(10)"
   ]
  },
  {
   "cell_type": "markdown",
   "metadata": {},
   "source": [
    "Description analysis:"
   ]
  },
  {
   "cell_type": "code",
   "execution_count": 28,
   "metadata": {},
   "outputs": [
    {
     "name": "stdout",
     "output_type": "stream",
     "text": [
      "(5265, 2)\n"
     ]
    },
    {
     "data": {
      "text/html": [
       "<div>\n",
       "<style scoped>\n",
       "    .dataframe tbody tr th:only-of-type {\n",
       "        vertical-align: middle;\n",
       "    }\n",
       "\n",
       "    .dataframe tbody tr th {\n",
       "        vertical-align: top;\n",
       "    }\n",
       "\n",
       "    .dataframe thead th {\n",
       "        text-align: right;\n",
       "    }\n",
       "</style>\n",
       "<table border=\"1\" class=\"dataframe\">\n",
       "  <thead>\n",
       "    <tr style=\"text-align: right;\">\n",
       "      <th></th>\n",
       "      <th>word</th>\n",
       "      <th>frequency</th>\n",
       "    </tr>\n",
       "  </thead>\n",
       "  <tbody>\n",
       "    <tr>\n",
       "      <th>3326</th>\n",
       "      <td>zoombies</td>\n",
       "      <td>5264</td>\n",
       "    </tr>\n",
       "    <tr>\n",
       "      <th>1970</th>\n",
       "      <td>zipped</td>\n",
       "      <td>5263</td>\n",
       "    </tr>\n",
       "    <tr>\n",
       "      <th>4881</th>\n",
       "      <td>zipassistantnameother</td>\n",
       "      <td>5262</td>\n",
       "    </tr>\n",
       "    <tr>\n",
       "      <th>896</th>\n",
       "      <td>zip</td>\n",
       "      <td>5261</td>\n",
       "    </tr>\n",
       "    <tr>\n",
       "      <th>3051</th>\n",
       "      <td>zero</td>\n",
       "      <td>5260</td>\n",
       "    </tr>\n",
       "    <tr>\n",
       "      <th>5219</th>\n",
       "      <td>youve</td>\n",
       "      <td>5259</td>\n",
       "    </tr>\n",
       "    <tr>\n",
       "      <th>4757</th>\n",
       "      <td>youre</td>\n",
       "      <td>5258</td>\n",
       "    </tr>\n",
       "    <tr>\n",
       "      <th>242</th>\n",
       "      <td>youll</td>\n",
       "      <td>5257</td>\n",
       "    </tr>\n",
       "    <tr>\n",
       "      <th>2571</th>\n",
       "      <td>youd</td>\n",
       "      <td>5256</td>\n",
       "    </tr>\n",
       "    <tr>\n",
       "      <th>2123</th>\n",
       "      <td>yet</td>\n",
       "      <td>5255</td>\n",
       "    </tr>\n",
       "    <tr>\n",
       "      <th>1495</th>\n",
       "      <td>years</td>\n",
       "      <td>5254</td>\n",
       "    </tr>\n",
       "    <tr>\n",
       "      <th>4873</th>\n",
       "      <td>yearmarital</td>\n",
       "      <td>5253</td>\n",
       "    </tr>\n",
       "    <tr>\n",
       "      <th>2396</th>\n",
       "      <td>xyzconfig</td>\n",
       "      <td>5252</td>\n",
       "    </tr>\n",
       "    <tr>\n",
       "      <th>4080</th>\n",
       "      <td>xxxxxxxxxxxxx</td>\n",
       "      <td>5251</td>\n",
       "    </tr>\n",
       "    <tr>\n",
       "      <th>4084</th>\n",
       "      <td>xxxxxxxxxx</td>\n",
       "      <td>5250</td>\n",
       "    </tr>\n",
       "    <tr>\n",
       "      <th>3552</th>\n",
       "      <td>xxxxxx</td>\n",
       "      <td>5249</td>\n",
       "    </tr>\n",
       "    <tr>\n",
       "      <th>778</th>\n",
       "      <td>xxxprocessingtimemonitor</td>\n",
       "      <td>5248</td>\n",
       "    </tr>\n",
       "    <tr>\n",
       "      <th>3003</th>\n",
       "      <td>xxxaware</td>\n",
       "      <td>5247</td>\n",
       "    </tr>\n",
       "    <tr>\n",
       "      <th>2464</th>\n",
       "      <td>xxe</td>\n",
       "      <td>5246</td>\n",
       "    </tr>\n",
       "    <tr>\n",
       "      <th>4835</th>\n",
       "      <td>xssequence</td>\n",
       "      <td>5245</td>\n",
       "    </tr>\n",
       "  </tbody>\n",
       "</table>\n",
       "</div>"
      ],
      "text/plain": [
       "                          word  frequency\n",
       "3326                  zoombies       5264\n",
       "1970                    zipped       5263\n",
       "4881     zipassistantnameother       5262\n",
       "896                        zip       5261\n",
       "3051                      zero       5260\n",
       "5219                     youve       5259\n",
       "4757                     youre       5258\n",
       "242                      youll       5257\n",
       "2571                      youd       5256\n",
       "2123                       yet       5255\n",
       "1495                     years       5254\n",
       "4873               yearmarital       5253\n",
       "2396                 xyzconfig       5252\n",
       "4080             xxxxxxxxxxxxx       5251\n",
       "4084                xxxxxxxxxx       5250\n",
       "3552                    xxxxxx       5249\n",
       "778   xxxprocessingtimemonitor       5248\n",
       "3003                  xxxaware       5247\n",
       "2464                       xxe       5246\n",
       "4835                xssequence       5245"
      ]
     },
     "execution_count": 28,
     "metadata": {},
     "output_type": "execute_result"
    }
   ],
   "source": [
    "count_vectorizer = CountVectorizer()\n",
    "count_vectorizer.fit(all_data[all_data['description'].isnull() == False]['description'])\n",
    "\n",
    "dictionary = pd.DataFrame(list(count_vectorizer.vocabulary_.items()), columns=['word', 'frequency'])\n",
    "dictionary.sort_values(by='frequency', ascending=False, inplace=True)\n",
    "print(dictionary.shape)\n",
    "dictionary.head(20)"
   ]
  },
  {
   "cell_type": "markdown",
   "metadata": {},
   "source": [
    "Yet I don't find any thing special about the words in input except so many things are bad."
   ]
  },
  {
   "cell_type": "markdown",
   "metadata": {},
   "source": [
    "### Solving strategies"
   ]
  },
  {
   "cell_type": "markdown",
   "metadata": {},
   "source": [
    "My first intuitation in this problem is that the hard part is not on the algorithm we use, it is on the **embedding** part. Therefore, in case the given embedded datasets work not properly, I will use a better embedding method which is **Bidirectional Encoder Representations from Transformers (BERT)**. Also, I will try an old way to embedding the text too: **Bag of words**.\n",
    "\n",
    "In conclusion, I will have 4 ways to embed the text:\n",
    "- doc2vec (already available)\n",
    "- Look up (already available)\n",
    "- Bag Of Words\n",
    "- BERT"
   ]
  },
  {
   "cell_type": "markdown",
   "metadata": {},
   "source": [
    "About algorithm, I will try all the regression algorithm that may give a good result:\n",
    "\n",
    "- Ridge Regressor\n",
    "- Support Vector Regressor\n",
    "- Random Forest Regressor\n",
    "- Gradient Boosting\n",
    "- XGBoost\n",
    "- Lightgbm\n",
    "- Blended"
   ]
  },
  {
   "cell_type": "markdown",
   "metadata": {},
   "source": [
    "Maybe, we can change the problem to the classification problem with 100 labels (desparation confirmed). In the classification problem, I will use:\n",
    "- Support Vector Classifier\n",
    "- Softmax Regression (Multinomial Logistic Regression)\n",
    "- Random Forest\n",
    "- Adaboost\n",
    "- XGBoost"
   ]
  },
  {
   "cell_type": "markdown",
   "metadata": {},
   "source": [
    "\n",
    "Thanks to the libaries, the implementation of all the algorithm shrinks to its minimum form."
   ]
  },
  {
   "cell_type": "markdown",
   "metadata": {},
   "source": [
    "At last, there is still a situation that all of mentioned model don't give a good result. This gamble is thrilling (hopeless).\n",
    "\n",
    "*\"But would you lose?\"*\n",
    "\n",
    "Nah, I'd win."
   ]
  }
 ],
 "metadata": {
  "kernelspec": {
   "display_name": "Python 3",
   "language": "python",
   "name": "python3"
  },
  "language_info": {
   "codemirror_mode": {
    "name": "ipython",
    "version": 3
   },
   "file_extension": ".py",
   "mimetype": "text/x-python",
   "name": "python",
   "nbconvert_exporter": "python",
   "pygments_lexer": "ipython3",
   "version": "3.11.9"
  }
 },
 "nbformat": 4,
 "nbformat_minor": 2
}
