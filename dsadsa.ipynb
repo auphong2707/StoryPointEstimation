{
 "cells": [
  {
   "cell_type": "code",
   "execution_count": 7,
   "metadata": {},
   "outputs": [
    {
     "name": "stdout",
     "output_type": "stream",
     "text": [
      "Training combination 1/9\n"
     ]
    }
   ],
   "source": [
    "import pandas as pd\n",
    "from sklearn.linear_model import Ridge\n",
    "from sklearn.model_selection import ParameterSampler\n",
    "from sklearn.feature_extraction.text import CountVectorizer\n",
    "from trainer import GridSearchCVTrainer\n",
    "import numpy as np\n",
    "from scipy.sparse import hstack\n",
    "\n",
    "# Import and remove NaN value\n",
    "project_name = 'titanium'\n",
    "\n",
    "data_train = pd.concat([pd.read_csv(project_name + '/' + project_name + '_dataset_train.csv'),\n",
    "                       pd.read_csv(project_name + '/' + project_name + '_dataset_valid.csv')])\n",
    "data_test = pd.read_csv(project_name + '/' + project_name + '_dataset_test.csv')\n",
    "\n",
    "data_train['description'].replace(np.nan, '', inplace=True)\n",
    "data_test['description'].replace(np.nan, '', inplace=True)\n",
    "\n",
    "# Vectorize title\n",
    "title_vectorizer = CountVectorizer(ngram_range=(1, 2), min_df=2)\n",
    "title_vectorizer.fit(pd.concat([data_train['title'], data_test['title']]))\n",
    "\n",
    "# Vectorize description\n",
    "description_vectorizer = CountVectorizer(ngram_range=(1, 2), min_df=2)\n",
    "description_vectorizer.fit(pd.concat([data_train['description'], data_test['description']]))\n",
    "\n",
    "X_train = hstack([title_vectorizer.transform(data_train['title']).astype(float),\n",
    "                  description_vectorizer.transform(data_train['description']).astype(float),\n",
    "                  data_train['title'].apply(lambda x : len(x)).to_numpy().reshape(-1, 1),\n",
    "                  data_train['description'].apply(lambda x : len(x)).to_numpy().reshape(-1, 1)])\n",
    "\n",
    "y_train = data_train['storypoint'].to_numpy().astype(float)\n",
    "\n",
    "X_test = hstack([title_vectorizer.transform(data_test['title']).astype(float),\n",
    "                  description_vectorizer.transform(data_test['description']).astype(float),\n",
    "                  data_test['title'].apply(lambda x : len(x)).to_numpy().reshape(-1, 1),\n",
    "                  data_test['description'].apply(lambda x : len(x)).to_numpy().reshape(-1, 1)])\n",
    "\n",
    "y_test = data_test['storypoint'].to_numpy().astype(float)\n",
    "\n",
    "alphas = [.0001, .001, .01, .1, 1, 10, 100, 1000, 10000]\n",
    "params = {'alpha': alphas}\n",
    "\n",
    "trainer = GridSearchCVTrainer(\"Ridge\", Ridge(), params)\n",
    "\n",
    "trainer.fit(X_train, y_train)"
   ]
  }
 ],
 "metadata": {
  "kernelspec": {
   "display_name": "Python 3",
   "language": "python",
   "name": "python3"
  },
  "language_info": {
   "codemirror_mode": {
    "name": "ipython",
    "version": 3
   },
   "file_extension": ".py",
   "mimetype": "text/x-python",
   "name": "python",
   "nbconvert_exporter": "python",
   "pygments_lexer": "ipython3",
   "version": "3.11.9"
  }
 },
 "nbformat": 4,
 "nbformat_minor": 2
}
